{
 "cells": [
  {
   "cell_type": "code",
   "execution_count": 1,
   "metadata": {},
   "outputs": [],
   "source": [
    "%matplotlib inline"
   ]
  },
  {
   "cell_type": "markdown",
   "metadata": {},
   "source": [
    "\n",
    "Training a Classifier\n",
    "=====================\n",
    "\n",
    "This is it. You have seen how to define neural networks, compute loss and make\n",
    "updates to the weights of the network.\n",
    "\n",
    "Now you might be thinking,\n",
    "\n",
    "What about data?\n",
    "----------------\n",
    "\n",
    "Generally, when you have to deal with image, text, audio or video data,\n",
    "you can use standard python packages that load data into a numpy array.\n",
    "Then you can convert this array into a ``torch.*Tensor``.\n",
    "\n",
    "-  For images, packages such as Pillow, OpenCV are useful\n",
    "-  For audio, packages such as scipy and librosa\n",
    "-  For text, either raw Python or Cython based loading, or NLTK and\n",
    "   SpaCy are useful\n",
    "\n",
    "Specifically for vision, we have created a package called\n",
    "``torchvision``, that has data loaders for common datasets such as\n",
    "Imagenet, CIFAR10, MNIST, etc. and data transformers for images, viz.,\n",
    "``torchvision.datasets`` and ``torch.utils.data.DataLoader``.\n",
    "\n",
    "This provides a huge convenience and avoids writing boilerplate code.\n",
    "\n",
    "For this tutorial, we will use the CIFAR10 dataset.\n",
    "It has the classes: ‘airplane’, ‘automobile’, ‘bird’, ‘cat’, ‘deer’,\n",
    "‘dog’, ‘frog’, ‘horse’, ‘ship’, ‘truck’. The images in CIFAR-10 are of\n",
    "size 3x32x32, i.e. 3-channel color images of 32x32 pixels in size.\n",
    "\n",
    ".. figure:: /_static/img/cifar10.png\n",
    "   :alt: cifar10\n",
    "\n",
    "   cifar10\n",
    "\n",
    "\n",
    "Training an image classifier\n",
    "----------------------------\n",
    "\n",
    "We will do the following steps in order:\n",
    "\n",
    "1. Load and normalizing the CIFAR10 training and test datasets using\n",
    "   ``torchvision``\n",
    "2. Define a Convolution Neural Network\n",
    "3. Define a loss function\n",
    "4. Train the network on the training data\n",
    "5. Test the network on the test data\n",
    "\n",
    "1. Loading and normalizing CIFAR10\n",
    "^^^^^^^^^^^^^^^^^^^^^^^^^^^^^^^^^^\n",
    "\n",
    "Using ``torchvision``, it’s extremely easy to load CIFAR10.\n",
    "\n"
   ]
  },
  {
   "cell_type": "code",
   "execution_count": 2,
   "metadata": {},
   "outputs": [],
   "source": [
    "import torch\n",
    "import torchvision\n",
    "import torchvision.transforms as transforms"
   ]
  },
  {
   "cell_type": "markdown",
   "metadata": {},
   "source": [
    "The output of torchvision datasets are PILImage images of range [0, 1].\n",
    "We transform them to Tensors of normalized range [-1, 1].\n",
    "\n"
   ]
  },
  {
   "cell_type": "code",
   "execution_count": 3,
   "metadata": {},
   "outputs": [
    {
     "name": "stdout",
     "output_type": "stream",
     "text": [
      "Files already downloaded and verified\n",
      "Files already downloaded and verified\n"
     ]
    }
   ],
   "source": [
    "transform = transforms.Compose(\n",
    "    [transforms.ToTensor(),\n",
    "     transforms.Normalize((0.5, 0.5, 0.5), (0.5, 0.5, 0.5))])\n",
    "\n",
    "trainset = torchvision.datasets.CIFAR10(root='./data', train=True,\n",
    "                                        download=True, transform=transform)\n",
    "trainloader = torch.utils.data.DataLoader(trainset, batch_size=4,\n",
    "                                          shuffle=True, num_workers=2)\n",
    "\n",
    "testset = torchvision.datasets.CIFAR10(root='./data', train=False,\n",
    "                                       download=True, transform=transform)\n",
    "testloader = torch.utils.data.DataLoader(testset, batch_size=4,\n",
    "                                         shuffle=False, num_workers=2)\n",
    "\n",
    "classes = ('plane', 'car', 'bird', 'cat',\n",
    "           'deer', 'dog', 'frog', 'horse', 'ship', 'truck')"
   ]
  },
  {
   "cell_type": "markdown",
   "metadata": {},
   "source": [
    "Let us show some of the training images, for fun.\n",
    "\n"
   ]
  },
  {
   "cell_type": "code",
   "execution_count": 4,
   "metadata": {},
   "outputs": [
    {
     "name": "stdout",
     "output_type": "stream",
     "text": [
      "plane  bird  deer   cat\n"
     ]
    },
    {
     "data": {
      "image/png": "[encoded data removed]",
      "text/plain": [
       "<Figure size 432x288 with 1 Axes>"
      ]
     },
     "metadata": {
      "needs_background": "light"
     },
     "output_type": "display_data"
    }
   ],
   "source": [
    "import matplotlib.pyplot as plt\n",
    "import numpy as np\n",
    "\n",
    "# functions to show an image\n",
    "\n",
    "\n",
    "def imshow(img):\n",
    "    img = img / 2 + 0.5     # unnormalize\n",
    "    npimg = img.numpy()\n",
    "    plt.imshow(np.transpose(npimg, (1, 2, 0)))\n",
    "\n",
    "\n",
    "# get some random training images\n",
    "dataiter = iter(trainloader)\n",
    "images, labels = dataiter.next()\n",
    "\n",
    "# show images\n",
    "imshow(torchvision.utils.make_grid(images))\n",
    "# print labels\n",
    "print(' '.join('%5s' % classes[labels[j]] for j in range(4)))"
   ]
  },
  {
   "cell_type": "markdown",
   "metadata": {},
   "source": [
    "2. Define a Convolution Neural Network\n",
    "^^^^^^^^^^^^^^^^^^^^^^^^^^^^^^^^^^^^^^\n",
    "Copy the neural network from the Neural Networks section before and modify it to\n",
    "take 3-channel images (instead of 1-channel images as it was defined).\n",
    "\n"
   ]
  },
  {
   "cell_type": "code",
   "execution_count": 5,
   "metadata": {},
   "outputs": [],
   "source": [
    "import torch.nn as nn\n",
    "import torch.nn.functional as F\n",
    "\n",
    "\n",
    "class Net(nn.Module):\n",
    "    def __init__(self):\n",
    "        super(Net, self).__init__()\n",
    "        self.conv1 = nn.Conv2d(3, 6, 5)\n",
    "        self.pool = nn.MaxPool2d(2, 2)\n",
    "        self.conv2 = nn.Conv2d(6, 16, 5)\n",
    "        self.fc1 = nn.Linear(16 * 5 * 5, 120)\n",
    "        self.fc2 = nn.Linear(120, 84)\n",
    "        self.fc3 = nn.Linear(84, 10)\n",
    "\n",
    "    def forward(self, x):\n",
    "        x = self.pool(F.relu(self.conv1(x)))\n",
    "        x = self.pool(F.relu(self.conv2(x)))\n",
    "        x = x.view(-1, 16 * 5 * 5)\n",
    "        x = F.relu(self.fc1(x))\n",
    "        x = F.relu(self.fc2(x))\n",
    "        x = self.fc3(x)\n",
    "        return x\n",
    "\n",
    "\n",
    "net = Net()"
   ]
  },
  {
   "cell_type": "markdown",
   "metadata": {},
   "source": [
    "3. Define a Loss function and optimizer\n",
    "^^^^^^^^^^^^^^^^^^^^^^^^^^^^^^^^^^^^^^^\n",
    "Let's use a Classification Cross-Entropy loss and SGD with momentum.\n",
    "\n"
   ]
  },
  {
   "cell_type": "code",
   "execution_count": 6,
   "metadata": {},
   "outputs": [],
   "source": [
    "import torch.optim as optim\n",
    "\n",
    "criterion = nn.CrossEntropyLoss()\n",
    "optimizer = optim.SGD(net.parameters(), lr=0.001, momentum=0.9)"
   ]
  },
  {
   "cell_type": "markdown",
   "metadata": {},
   "source": [
    "4. Train the network\n",
    "^^^^^^^^^^^^^^^^^^^^\n",
    "\n",
    "This is when things start to get interesting.\n",
    "We simply have to loop over our data iterator, and feed the inputs to the\n",
    "network and optimize.\n",
    "\n"
   ]
  },
  {
   "cell_type": "code",
   "execution_count": 7,
   "metadata": {},
   "outputs": [
    {
     "name": "stdout",
     "output_type": "stream",
     "text": [
      "tensor([[ 0.1374,  0.2869,  0.2192,  0.1339, -0.2543,  0.5293, -0.6923, -0.2237,\n",
      "          0.0144,  0.5205],\n",
      "        [-0.8658, -0.3859,  0.5329,  1.0315,  0.4108,  1.3173,  0.2176,  0.2322,\n",
      "         -1.7402, -1.1219],\n",
      "        [ 1.0534,  0.9471,  0.1582, -0.2619, -0.7188,  0.2263, -1.8312, -0.3330,\n",
      "          1.3788,  1.7118],\n",
      "        [-0.5879,  0.2114,  0.4713,  0.5494, -0.0463,  0.8217, -0.4165, -0.1151,\n",
      "         -0.9154,  0.4039]], grad_fn=<ThAddmmBackward>)\n",
      "tensor([5, 3, 9, 2])\n",
      "[1,  2000] loss: 2.228\n",
      "tensor([[-1.3442, -2.0564,  1.2383,  1.2592,  1.3102,  0.7770,  1.0397,  1.8261,\n",
      "         -2.3541, -1.0536],\n",
      "        [ 1.7270,  0.3578,  0.1675,  0.5223, -1.0784,  0.4050, -1.5454, -1.6979,\n",
      "          2.7064, -0.4766],\n",
      "        [-1.9682, -2.7712,  1.6170,  1.6999,  1.8361,  0.9943,  1.9284,  2.3874,\n",
      "         -3.3669, -1.4066],\n",
      "        [-1.8681, -1.9987,  1.2559,  1.5685,  1.1669,  0.9456,  1.8493,  1.3639,\n",
      "         -2.7466, -1.0318]], grad_fn=<ThAddmmBackward>)\n",
      "tensor([6, 8, 5, 6])\n",
      "[1,  4000] loss: 1.862\n",
      "tensor([[ 1.6975,  2.2870,  0.0376, -0.9494, -0.0998, -1.5203, -1.6132, -0.8391,\n",
      "          1.2513,  0.8604],\n",
      "        [ 0.8306,  2.1686, -0.2945, -0.7550, -0.3652, -1.7788, -0.9558, -1.5597,\n",
      "          1.9279,  1.8929],\n",
      "        [ 4.1212,  2.6537,  1.0110, -1.5270,  0.4668, -3.2270, -3.1229, -2.7931,\n",
      "          3.8231,  0.4862],\n",
      "        [ 0.7912,  2.6902, -0.5486, -1.1171, -0.3365, -1.0285, -1.4149,  0.4264,\n",
      "          0.7405,  1.1799]], grad_fn=<ThAddmmBackward>)\n",
      "tensor([1, 8, 8, 1])\n",
      "[1,  6000] loss: 1.674\n",
      "tensor([[-1.4477, -1.9848,  0.9586,  1.9685,  0.0128,  1.4078,  1.1972,  0.3695,\n",
      "         -1.4517, -1.0360],\n",
      "        [-1.6175, -2.7790,  2.2393,  0.9668,  2.6221,  0.2303,  3.1701,  0.6704,\n",
      "         -2.9299, -1.9714],\n",
      "        [ 0.6331,  0.6908, -0.4847, -0.1145, -0.7246, -1.0692, -1.2822, -0.7112,\n",
      "          2.6463,  1.7672],\n",
      "        [-0.1092,  1.0486, -0.4048,  0.0012, -1.1372, -0.6265, -0.7660,  0.2181,\n",
      "          0.4662,  1.8755]], grad_fn=<ThAddmmBackward>)\n",
      "tensor([3, 6, 8, 9])\n",
      "[1,  8000] loss: 1.583\n",
      "tensor([[-0.6681, -1.1986,  0.8329,  0.8861,  1.2302,  0.4993,  1.1661, -0.5757,\n",
      "         -0.7325, -1.6502],\n",
      "        [-0.8184,  1.1838, -0.2755,  0.9131, -0.7082, -0.7998,  2.2209, -1.3257,\n",
      "         -0.8674,  0.9245],\n",
      "        [-1.7652, -1.7524,  1.5250,  1.1048,  2.9111,  0.1478,  4.8876, -0.6408,\n",
      "         -2.7586, -2.5140],\n",
      "        [ 3.4023,  0.9757,  0.2788, -1.6286,  0.6730, -3.4527, -1.7788, -2.3755,\n",
      "          4.1572,  1.4375]], grad_fn=<ThAddmmBackward>)\n",
      "tensor([2, 6, 4, 0])\n",
      "[1, 10000] loss: 1.506\n",
      "tensor([[ 0.2708,  0.5435, -0.1713,  0.1825, -0.6926, -0.6284, -0.4861, -1.4328,\n",
      "          1.5914,  1.1586],\n",
      "        [ 0.3925,  3.0325, -1.2501, -0.6317, -1.9286, -1.6822, -0.9316, -2.4349,\n",
      "          3.4117,  3.3559],\n",
      "        [-0.9879,  0.2922,  0.3194,  0.1087,  0.6937,  0.1871,  1.2067, -0.4215,\n",
      "         -1.7929, -0.0409],\n",
      "        [ 3.0690, -1.4555,  1.9855,  0.2987,  0.4267, -0.5033, -0.9258, -0.4668,\n",
      "         -0.1014, -1.4360]], grad_fn=<ThAddmmBackward>)\n",
      "tensor([0, 1, 4, 2])\n",
      "[1, 12000] loss: 1.470\n",
      "tensor([[ 0.4469, -0.7074,  0.1037,  0.4494, -0.3920,  0.9269, -2.3389,  4.6078,\n",
      "         -2.6823,  1.1315],\n",
      "        [ 0.2038, -2.2053,  1.7430,  0.1670,  1.7968,  0.3745,  0.5540,  1.2143,\n",
      "         -1.6689, -1.8357],\n",
      "        [-1.2200, -2.0610,  0.3532,  1.9054,  0.3698,  2.8001, -0.8239,  1.8532,\n",
      "         -2.1826, -1.5954],\n",
      "        [-1.1708, -1.5770,  0.8150,  1.4016,  1.1265,  0.9026,  2.3084, -0.1562,\n",
      "         -1.6730, -1.4680]], grad_fn=<ThAddmmBackward>)\n",
      "tensor([7, 6, 4, 6])\n",
      "[2,  2000] loss: 1.375\n",
      "tensor([[ 0.0718, -0.5037, -0.2389, -0.2016, -0.8232,  0.6125, -1.2334,  0.8647,\n",
      "         -0.3160,  2.0000],\n",
      "        [ 0.6727, -2.2677,  2.6914, -0.2334,  3.4389,  0.0689,  0.4538,  1.1020,\n",
      "         -2.6171, -3.1253],\n",
      "        [-0.8261, -2.1236,  1.0798,  1.2560,  1.2232,  1.0880,  1.0107,  0.0160,\n",
      "         -1.0400, -1.7497],\n",
      "        [-0.6469, -0.9733,  0.4054,  0.4133,  1.1633,  1.8615, -1.6515,  2.8676,\n",
      "         -2.7992, -0.5448]], grad_fn=<ThAddmmBackward>)\n",
      "tensor([3, 2, 3, 7])\n",
      "[2,  4000] loss: 1.340\n",
      "tensor([[-2.0123, -3.0568,  1.0041,  2.9247, -0.4429,  3.8811, -0.3273,  0.1951,\n",
      "         -0.2982, -2.5315],\n",
      "        [ 1.7832,  2.3780, -1.4442, -1.3533, -0.3365, -2.0530, -3.1559,  0.2379,\n",
      "          0.8691,  4.8229],\n",
      "        [ 1.9776, -1.7024,  1.0608, -0.0101,  0.5558, -0.1348, -1.8246,  0.1399,\n",
      "          1.6795, -0.5163],\n",
      "        [ 0.2957, -1.8782,  1.6741,  0.8247,  0.5651,  0.3484, -0.4811, -0.2481,\n",
      "          0.2671, -1.7028]], grad_fn=<ThAddmmBackward>)\n",
      "tensor([3, 9, 7, 3])\n",
      "[2,  6000] loss: 1.336\n",
      "tensor([[-1.0219, -0.7491,  1.1367, -0.0478,  2.7422, -0.6782,  3.6274, -0.2152,\n",
      "         -2.2368, -1.5145],\n",
      "        [ 1.5638,  4.7812, -2.0493, -1.9511, -1.6985, -3.4744, -1.0621, -2.1584,\n",
      "          3.7099,  3.8494],\n",
      "        [-3.8159, -1.3407,  0.9037,  3.6779, -0.6826,  1.8898,  4.9051, -2.2233,\n",
      "         -0.9446, -1.9942],\n",
      "        [ 3.6738,  1.9491, -1.2978, -2.0854, -0.7038, -4.4478, -2.6734, -2.5677,\n",
      "          7.2334,  4.1461]], grad_fn=<ThAddmmBackward>)\n",
      "tensor([4, 9, 2, 8])\n",
      "[2,  8000] loss: 1.317\n",
      "tensor([[-2.4694, -1.7022,  1.2437,  2.0925,  2.5537,  1.0417,  2.8217,  0.4037,\n",
      "         -3.2532, -2.0557],\n",
      "        [ 1.8287,  1.4453, -0.6915, -0.2882, -0.9262, -1.6675, -1.7993, -1.7675,\n",
      "          4.5418,  0.8138],\n",
      "        [-1.2715, -1.8061,  0.3289,  2.1417, -0.5699,  2.4846, -0.4854,  0.1429,\n",
      "         -0.0876, -0.7425],\n",
      "        [-0.0710,  1.5778, -0.0723, -0.5693, -0.0074, -1.0955, -0.4238, -0.9586,\n",
      "          0.0110,  1.8489]], grad_fn=<ThAddmmBackward>)\n",
      "tensor([6, 1, 5, 5])\n",
      "[2, 10000] loss: 1.299\n",
      "tensor([[ 3.8994, -2.3964,  3.4852,  0.9341, -1.0702,  1.1489,  0.0093, -2.1122,\n",
      "         -1.4635, -2.9095],\n",
      "        [-0.1708, -2.8144,  2.7396,  0.5412,  3.0396,  0.1592,  2.4539, -0.4987,\n",
      "         -2.3950, -2.9178],\n",
      "        [-0.0775, -1.2475,  0.2165,  1.4816,  0.3088,  1.3992, -0.4626, -0.5061,\n",
      "          0.1306, -1.6728],\n",
      "        [ 0.1706,  1.3398, -0.6979, -0.7572, -0.0252, -1.0794,  1.9375, -0.8654,\n",
      "         -0.8927,  2.0506]], grad_fn=<ThAddmmBackward>)\n",
      "tensor([2, 2, 8, 9])\n",
      "[2, 12000] loss: 1.260\n",
      "Finished Training\n"
     ]
    }
   ],
   "source": [
    "for epoch in range(2):  # loop over the dataset multiple times\n",
    "\n",
    "    running_loss = 0.0\n",
    "    for i, data in enumerate(trainloader, 0):\n",
    "        # get the inputs\n",
    "        inputs, labels = data\n",
    "\n",
    "        # zero the parameter gradients\n",
    "        optimizer.zero_grad()\n",
    "\n",
    "        # forward + backward + optimize\n",
    "        outputs = net(inputs)\n",
    "        loss = criterion(outputs, labels)\n",
    "        loss.backward()\n",
    "        optimizer.step()\n",
    "\n",
    "        # print statistics\n",
    "        running_loss += loss.item()\n",
    "        if i % 2000 == 1999:    # print every 2000 mini-batches\n",
    "            #print(outputs)\n",
    "            #print(labels)\n",
    "            print('[%d, %5d] loss: %.3f' %\n",
    "                  (epoch + 1, i + 1, running_loss / 2000))\n",
    "            running_loss = 0.0\n",
    "\n",
    "print('Finished Training')"
   ]
  },
  {
   "cell_type": "markdown",
   "metadata": {},
   "source": [
    "5. Test the network on the test data\n",
    "^^^^^^^^^^^^^^^^^^^^^^^^^^^^^^^^^^^^\n",
    "\n",
    "We have trained the network for 2 passes over the training dataset.\n",
    "But we need to check if the network has learnt anything at all.\n",
    "\n",
    "We will check this by predicting the class label that the neural network\n",
    "outputs, and checking it against the ground-truth. If the prediction is\n",
    "correct, we add the sample to the list of correct predictions.\n",
    "\n",
    "Okay, first step. Let us display an image from the test set to get familiar.\n",
    "\n"
   ]
  },
  {
   "cell_type": "code",
   "execution_count": 8,
   "metadata": {},
   "outputs": [
    {
     "name": "stdout",
     "output_type": "stream",
     "text": [
      "GroundTruth:    cat  ship  ship plane\n"
     ]
    },
    {
     "data": {
      "image/png": "[encoded data removed]",
      "text/plain": [
       "<Figure size 432x288 with 1 Axes>"
      ]
     },
     "metadata": {
      "needs_background": "light"
     },
     "output_type": "display_data"
    }
   ],
   "source": [
    "dataiter = iter(testloader)\n",
    "images, labels = dataiter.next()\n",
    "\n",
    "# print images\n",
    "imshow(torchvision.utils.make_grid(images))\n",
    "print('GroundTruth: ', ' '.join('%5s' % classes[labels[j]] for j in range(4)))"
   ]
  },
  {
   "cell_type": "markdown",
   "metadata": {},
   "source": [
    "Okay, now let us see what the neural network thinks these examples above are:\n",
    "\n"
   ]
  },
  {
   "cell_type": "code",
   "execution_count": 9,
   "metadata": {},
   "outputs": [],
   "source": [
    "outputs = net(images)"
   ]
  },
  {
   "cell_type": "markdown",
   "metadata": {},
   "source": [
    "The outputs are energies for the 10 classes.\n",
    "Higher the energy for a class, the more the network\n",
    "thinks that the image is of the particular class.\n",
    "So, let's get the index of the highest energy:\n",
    "\n"
   ]
  },
  {
   "cell_type": "code",
   "execution_count": 10,
   "metadata": {},
   "outputs": [
    {
     "name": "stdout",
     "output_type": "stream",
     "text": [
      "Predicted:    cat  ship  ship  ship\n"
     ]
    }
   ],
   "source": [
    "_, predicted = torch.max(outputs, 1)\n",
    "\n",
    "print('Predicted: ', ' '.join('%5s' % classes[predicted[j]]\n",
    "                              for j in range(4)))"
   ]
  },
  {
   "cell_type": "markdown",
   "metadata": {},
   "source": [
    "The results seem pretty good.\n",
    "\n",
    "Let us look at how the network performs on the whole dataset.\n",
    "\n"
   ]
  },
  {
   "cell_type": "code",
   "execution_count": 11,
   "metadata": {},
   "outputs": [
    {
     "name": "stdout",
     "output_type": "stream",
     "text": [
      "Accuracy of the network on the 10000 test images: 57 %\n"
     ]
    }
   ],
   "source": [
    "correct = 0\n",
    "total = 0\n",
    "with torch.no_grad():\n",
    "    for data in testloader:\n",
    "        images, labels = data\n",
    "        outputs = net(images)\n",
    "        _, predicted = torch.max(outputs.data, 1)\n",
    "        total += labels.size(0)\n",
    "        correct += (predicted == labels).sum().item()\n",
    "\n",
    "print('Accuracy of the network on the 10000 test images: %d %%' % (\n",
    "    100 * correct / total))"
   ]
  },
  {
   "cell_type": "markdown",
   "metadata": {},
   "source": [
    "That looks waaay better than chance, which is 10% accuracy (randomly picking\n",
    "a class out of 10 classes).\n",
    "Seems like the network learnt something.\n",
    "\n",
    "Hmmm, what are the classes that performed well, and the classes that did\n",
    "not perform well:\n",
    "\n"
   ]
  },
  {
   "cell_type": "code",
   "execution_count": 12,
   "metadata": {},
   "outputs": [
    {
     "name": "stdout",
     "output_type": "stream",
     "text": [
      "Accuracy of plane : 62 %\n",
      "Accuracy of   car : 71 %\n",
      "Accuracy of  bird : 33 %\n",
      "Accuracy of   cat : 39 %\n",
      "Accuracy of  deer : 46 %\n",
      "Accuracy of   dog : 49 %\n",
      "Accuracy of  frog : 63 %\n",
      "Accuracy of horse : 63 %\n",
      "Accuracy of  ship : 75 %\n",
      "Accuracy of truck : 67 %\n"
     ]
    }
   ],
   "source": [
    "class_correct = list(0. for i in range(10))\n",
    "class_total = list(0. for i in range(10))\n",
    "with torch.no_grad():\n",
    "    for data in testloader:\n",
    "        images, labels = data\n",
    "        outputs = net(images)\n",
    "        _, predicted = torch.max(outputs, 1)\n",
    "        c = (predicted == labels).squeeze()\n",
    "        for i in range(4):\n",
    "            label = labels[i]\n",
    "            class_correct[label] += c[i].item()\n",
    "            class_total[label] += 1\n",
    "\n",
    "\n",
    "for i in range(10):\n",
    "    print('Accuracy of %5s : %2d %%' % (\n",
    "        classes[i], 100 * class_correct[i] / class_total[i]))"
   ]
  },
  {
   "cell_type": "markdown",
   "metadata": {},
   "source": [
    "Okay, so what next?\n",
    "\n",
    "How do we run these neural networks on the GPU?\n",
    "\n",
    "Training on GPU\n",
    "----------------\n",
    "Just like how you transfer a Tensor on to the GPU, you transfer the neural\n",
    "net onto the GPU.\n",
    "\n",
    "Let's first define our device as the first visible cuda device if we have\n",
    "CUDA available:\n",
    "\n"
   ]
  },
  {
   "cell_type": "code",
   "execution_count": 13,
   "metadata": {},
   "outputs": [
    {
     "name": "stdout",
     "output_type": "stream",
     "text": [
      "cuda:0\n"
     ]
    }
   ],
   "source": [
    "device = torch.device(\"cuda:0\" if torch.cuda.is_available() else \"cpu\")\n",
    "\n",
    "# Assume that we are on a CUDA machine, then this should print a CUDA device:\n",
    "\n",
    "print(device)"
   ]
  },
  {
   "cell_type": "markdown",
   "metadata": {},
   "source": [
    "The rest of this section assumes that `device` is a CUDA device.\n",
    "\n",
    "Then these methods will recursively go over all modules and convert their\n",
    "parameters and buffers to CUDA tensors:\n",
    "\n",
    ".. code:: python\n",
    "\n",
    "    net.to(device)\n",
    "\n",
    "\n",
    "Remember that you will have to send the inputs and targets at every step\n",
    "to the GPU too:\n",
    "\n",
    ".. code:: python\n",
    "\n",
    "        inputs, labels = inputs.to(device), labels.to(device)\n",
    "\n",
    "Why dont I notice MASSIVE speedup compared to CPU? Because your network\n",
    "is realllly small.\n",
    "\n",
    "**Exercise:** Try increasing the width of your network (argument 2 of\n",
    "the first ``nn.Conv2d``, and argument 1 of the second ``nn.Conv2d`` –\n",
    "they need to be the same number), see what kind of speedup you get.\n",
    "\n",
    "**Goals achieved**:\n",
    "\n",
    "- Understanding PyTorch's Tensor library and neural networks at a high level.\n",
    "- Train a small neural network to classify images\n",
    "\n",
    "Training on multiple GPUs\n",
    "-------------------------\n",
    "If you want to see even more MASSIVE speedup using all of your GPUs,\n",
    "please check out :doc:`data_parallel_tutorial`.\n",
    "\n",
    "Where do I go next?\n",
    "-------------------\n",
    "\n",
    "-  :doc:`Train neural nets to play video games </intermediate/reinforcement_q_learning>`\n",
    "-  `Train a state-of-the-art ResNet network on imagenet`_\n",
    "-  `Train a face generator using Generative Adversarial Networks`_\n",
    "-  `Train a word-level language model using Recurrent LSTM networks`_\n",
    "-  `More examples`_\n",
    "-  `More tutorials`_\n",
    "-  `Discuss PyTorch on the Forums`_\n",
    "-  `Chat with other users on Slack`_\n",
    "\n",
    "\n"
   ]
  }
 ],
 "metadata": {
  "kernelspec": {
   "display_name": "Python 3",
   "language": "python",
   "name": "python3"
  },
  "language_info": {
   "codemirror_mode": {
    "name": "ipython",
    "version": 3
   },
   "file_extension": ".py",
   "mimetype": "text/x-python",
   "name": "python",
   "nbconvert_exporter": "python",
   "pygments_lexer": "ipython3",
   "version": "3.6.6"
  }
 },
 "nbformat": 4,
 "nbformat_minor": 1
}
