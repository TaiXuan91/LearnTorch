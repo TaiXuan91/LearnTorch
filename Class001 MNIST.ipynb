{
 "cells": [
  {
   "cell_type": "code",
   "execution_count": 1,
   "metadata": {},
   "outputs": [],
   "source": [
    "# 数据路径\n",
    "DATA_PATH = './mnist/'\n",
    "# 如果数据集不存在是否下载数据集\n",
    "DOWNLOAD_DATASET = True\n",
    "# 批量大小\n",
    "BATCH_SIZE = 50\n",
    "# 设置，如果GPU可用，是否使用GPU\n",
    "USEGPU = True"
   ]
  },
  {
   "cell_type": "code",
   "execution_count": 2,
   "metadata": {},
   "outputs": [],
   "source": [
    "# 用于读取表格数据\n",
    "import pandas as pd\n",
    "# 用于构建神经网络和相应数据处理\n",
    "import torch\n",
    "import torch.utils.data\n",
    "import torch.nn as nn\n",
    "import torchvision\n",
    "# 用于图像的读取和基本处理\n",
    "import cv2 as cv\n",
    "# 用于支持其他模块以及非torch的矩阵操作\n",
    "import numpy as np\n",
    "# 用于显示图像\n",
    "import matplotlib.pyplot as plt\n",
    "# 用于计算训练用时\n",
    "import datetime\n",
    "# 用于XML文件读写\n",
    "import xml.etree.ElementTree as ElementTree"
   ]
  },
  {
   "cell_type": "code",
   "execution_count": 3,
   "metadata": {},
   "outputs": [
    {
     "name": "stdout",
     "output_type": "stream",
     "text": [
      "using cpu\n"
     ]
    }
   ],
   "source": [
    "# 确定正在使用的运算设备\n",
    "if USEGPU:\n",
    "    device = torch.device(\"cuda:0\" if torch.cuda.is_available() else \"cpu\")\n",
    "else:\n",
    "    device = 'cpu'\n",
    "\n",
    "print('using',device)"
   ]
  },
  {
   "cell_type": "code",
   "execution_count": 4,
   "metadata": {},
   "outputs": [
    {
     "name": "stdout",
     "output_type": "stream",
     "text": [
      "mean 0.13066047927398855\n",
      "std 0.30810785931704165\n"
     ]
    }
   ],
   "source": [
    "# 如果没有记录的平均值和标准差\n",
    "# 就计算训练集的平均值和标准差并保存\n",
    "# 如果已经存在\n",
    "# 则读取均值和方差\n",
    "# 初始化平均值和标准差的存储变量\n",
    "datasetMean = 0\n",
    "datasetStd = 0\n",
    "# 初始化文件路径\n",
    "xmlFilePath = DATA_PATH+'TrainsetMeanAndStd.xml'\n",
    "# 尝试读取数据\n",
    "try:\n",
    "    tree = ElementTree.parse(xmlFilePath)\n",
    "    rootNode = tree.getroot()\n",
    "    for node in rootNode:\n",
    "        if node.tag == 'mean':\n",
    "            datasetMean = float(node.attrib['value'])\n",
    "        elif node.tag =='std':\n",
    "            datasetStd = float(node.attrib['value'])\n",
    "except:\n",
    "    # 如果读取失败则重新计算均值和方差\n",
    "    # 计算均值和方差之前先要保证训练集存在\n",
    "    train_data = torchvision.datasets.MNIST(root=DATA_PATH, train=True,download=DOWNLOAD_DATASET, \n",
    "                                        transform=torchvision.transforms.ToTensor())\n",
    "    print('计算训练集数据均值和方差中')\n",
    "    # 计算平均值\n",
    "    tempSum = 0\n",
    "    for i, data in enumerate(train_data):\n",
    "        img, label = data\n",
    "        tempSum = tempSum + float(img.mean())\n",
    "    datasetMean = tempSum/len(train_data)\n",
    "    # 计算标准差\n",
    "    tempSum = 0\n",
    "    for i, data in enumerate(train_data):\n",
    "        img, label = data\n",
    "        tempSum = tempSum + float(((img-datasetMean)**2).mean())\n",
    "    datasetStd = (tempSum/len(train_data))**0.5\n",
    "    print('计算完毕')\n",
    "    # 生成XML并保存\n",
    "    rootNode = ElementTree.Element('root')\n",
    "    meanNode = ElementTree.SubElement(rootNode,'mean')\n",
    "    meanNode.attrib = {'value':str(datasetMean)}\n",
    "    stdNode = ElementTree.SubElement(rootNode,'std')\n",
    "    stdNode.attrib = {'value':str(datasetStd)}\n",
    "    tree = ElementTree.ElementTree(rootNode)\n",
    "    # 生成的XML保存于DATA_PATH路径之下\n",
    "    tree.write(xmlFilePath)\n",
    "print('mean',datasetMean)\n",
    "print('std',datasetStd)\n"
   ]
  },
  {
   "cell_type": "code",
   "execution_count": 5,
   "metadata": {},
   "outputs": [],
   "source": [
    "# MNIST数据集载入\n",
    "# 图像数据的归一化和正则化\n",
    "# 需要注意的是ToTensor转化器在加载数据的时候已经把图像像素值从[0,255]变成了[0.0,1.0]\n",
    "# 载入MNIST数据集\n",
    "# ToTensor可以把像素数据整理到[0.0,1.0]区间。\n",
    "\n",
    "# 构造转换器\n",
    "TF = torchvision.transforms\n",
    "transformFunction = TF.Compose([TF.ToTensor(),\n",
    "                                TF.Normalize(mean=(datasetMean,),std=(datasetStd,))\n",
    "                               ])\n",
    "#transformFunction = TF.Compose([TF.ToTensor(),])\n",
    "# 载入训练集和测试集\n",
    "train_data = torchvision.datasets.MNIST(root=DATA_PATH, train=True,download=DOWNLOAD_DATASET, \n",
    "                                        transform=transformFunction)\n",
    "test_data = torchvision.datasets.MNIST(root=DATA_PATH, train=False,download=DOWNLOAD_DATASET, \n",
    "                                        transform=transformFunction)\n",
    "# 用DataLoader把数据集打包起来\n",
    "Data = torch.utils.data\n",
    "train_loader = Data.DataLoader(dataset=train_data, batch_size=BATCH_SIZE, shuffle=True)\n",
    "test_loader = Data.DataLoader(dataset=test_data, batch_size=BATCH_SIZE, shuffle=True)\n"
   ]
  },
  {
   "cell_type": "code",
   "execution_count": 6,
   "metadata": {},
   "outputs": [],
   "source": [
    "# 定义网络\n",
    "import torch.nn as nn\n",
    "import torch.nn.functional as F\n",
    "class ClassificationMNIST(nn.Module):\n",
    "    def __init__(self):\n",
    "        super(ClassificationMNIST,self).__init__()\n",
    "        self.n1=nn.Sequential(nn.Conv2d(1, 4, 3, 1),nn.ReLU(), nn.MaxPool2d(kernel_size=2))\n",
    "        self.n2=nn.Sequential(nn.Conv2d(4, 8, 3, 1),nn.ReLU(), nn.MaxPool2d(kernel_size=2))\n",
    "        #self.n3=nn.Sequential(nn.Conv2d(8, 16, 3, 1),nn.ReLU(), nn.MaxPool2d(kernel_size=2))\n",
    "        self.fc1 = nn.Linear(8*5*5,10)\n",
    "        #self.fc2 = nn.Linear(33,15)\n",
    "        \n",
    "    def forward(self, x):\n",
    "        x = self.n1(x)\n",
    "        x = self.n2(x)\n",
    "        #x = self.n3(x)\n",
    "        x = x.view(-1,8*5*5)\n",
    "        x = self.fc1(x)\n",
    "       #x = self.fc2(x)\n",
    "        #output = (torch.sigmoid(x)).round()\n",
    "        output = torch.sigmoid(x)\n",
    "        return output"
   ]
  },
  {
   "cell_type": "code",
   "execution_count": 7,
   "metadata": {
    "scrolled": true
   },
   "outputs": [
    {
     "name": "stderr",
     "output_type": "stream",
     "text": [
      "/home/taixuan/miniconda3/lib/python3.7/site-packages/torch/nn/_reduction.py:49: UserWarning: size_average and reduce args will be deprecated, please use reduction='sum' instead.\n",
      "  warnings.warn(warning.format(ret))\n"
     ]
    }
   ],
   "source": [
    "# 初始化网络，及相关函数\n",
    "cnn=ClassificationMNIST().to(device)\n",
    "EPOCH = 5\n",
    "#LR = 0.001\n",
    "#LR = 0.0001\n",
    "# 学习率是个超参数，这东西是实验出来的\n",
    "LR = 0.001\n",
    "\n",
    "# 定义损失函数和优化器\n",
    "optimizer = torch.optim.Adam(cnn.parameters(), lr=LR)\n",
    "loss_func = torch.nn.CrossEntropyLoss(size_average=False)"
   ]
  },
  {
   "cell_type": "code",
   "execution_count": 8,
   "metadata": {
    "scrolled": false
   },
   "outputs": [
    {
     "name": "stdout",
     "output_type": "stream",
     "text": [
      "Epoch:  0 | train loss: 115.3246 | test accuracy: 0.14\n",
      "Epoch:  0 | train loss: 78.7954 | test accuracy: 0.88\n",
      "Epoch:  0 | train loss: 77.2586 | test accuracy: 0.86\n",
      "Epoch:  1 | train loss: 76.2631 | test accuracy: 0.96\n",
      "Epoch:  1 | train loss: 74.5290 | test accuracy: 0.96\n",
      "Epoch:  1 | train loss: 74.7486 | test accuracy: 1.00\n",
      "Epoch:  2 | train loss: 74.8678 | test accuracy: 0.98\n",
      "Epoch:  2 | train loss: 75.9279 | test accuracy: 0.98\n",
      "Epoch:  2 | train loss: 74.9025 | test accuracy: 0.92\n",
      "Epoch:  3 | train loss: 74.2379 | test accuracy: 0.96\n",
      "Epoch:  3 | train loss: 74.7821 | test accuracy: 0.94\n",
      "Epoch:  3 | train loss: 74.7280 | test accuracy: 0.92\n",
      "Epoch:  4 | train loss: 75.2819 | test accuracy: 0.96\n",
      "Epoch:  4 | train loss: 75.0696 | test accuracy: 0.98\n",
      "Epoch:  4 | train loss: 73.8026 | test accuracy: 0.94\n",
      "Train time: 69 seconds\n"
     ]
    }
   ],
   "source": [
    "# 进行训练\n",
    "if str(device) == 'cpu':\n",
    "    pass\n",
    "else:\n",
    "    torch.cuda.synchronize()\n",
    "starttime=datetime.datetime.now()\n",
    "# 训练\n",
    "for epoch in range(EPOCH):\n",
    "    for i,data in enumerate(train_loader):\n",
    "        # 获取数据并把训练用数据转移到GPU上\n",
    "        b_x,b_y = data\n",
    "        b_x = b_x.to(device)\n",
    "        b_y = b_y.to(device)\n",
    "        # 前馈和计算损失\n",
    "        output = cnn(b_x)\n",
    "        loss = loss_func(output, b_y)\n",
    "        # 反馈\n",
    "        optimizer.zero_grad()\n",
    "        loss.backward()\n",
    "        optimizer.step()\n",
    "        if i% 500 == 0:\n",
    "            for j,testdata in enumerate(test_loader):\n",
    "                tx,ty =testdata\n",
    "                tx = tx.to(device)\n",
    "                ty = ty.to(device)\n",
    "                test_output = cnn(tx)\n",
    "                # !!!!!!!! Change in here !!!!!!!!! #\n",
    "                pred_y = torch.max(test_output, 1)[1].data.squeeze()  # move the computation in GPU\n",
    "                accuracy = torch.sum(pred_y == ty).type(torch.FloatTensor) / ty.size(0)\n",
    "                print('Epoch: ', epoch, '| train loss: %.4f' % loss.data.cpu().numpy(), '| test accuracy: %.2f' % accuracy)\n",
    "                break\n",
    "                pass # 防止提示语法错误写了个pass。其实没有什么语法错误。可能是语法检查器的问题。\n",
    "                \n",
    "if str(device) == 'cpu':\n",
    "    pass\n",
    "else:\n",
    "    torch.cuda.synchronize()\n",
    "endtime=datetime.datetime.now()\n",
    "print('Train time:',(endtime-starttime).seconds,'seconds')"
   ]
  },
  {
   "cell_type": "code",
   "execution_count": 9,
   "metadata": {},
   "outputs": [
    {
     "name": "stdout",
     "output_type": "stream",
     "text": [
      "0.9741\n"
     ]
    }
   ],
   "source": [
    "# 查看全部测试集\n",
    "testLen=len(test_data)\n",
    "tempSum=0\n",
    "for i,testdata in enumerate(test_loader):\n",
    "    img,label =testdata\n",
    "    img,label = img.to(device), label.to(device)\n",
    "    output = cnn(img)\n",
    "    pre = torch.max(output, 1)[1].data.squeeze()\n",
    "    #print('pre',pre)\n",
    "    #print('label',label)\n",
    "    tempSum = tempSum+(pre==label).sum()\n",
    "print(float(tempSum.data)/testLen)\n"
   ]
  },
  {
   "cell_type": "code",
   "execution_count": 10,
   "metadata": {},
   "outputs": [
    {
     "name": "stderr",
     "output_type": "stream",
     "text": [
      "Clipping input data to the valid range for imshow with RGB data ([0..1] for floats or [0..255] for integers).\n"
     ]
    },
    {
     "name": "stdout",
     "output_type": "stream",
     "text": [
      "cnn answers:\n",
      "[1 6 7 7 7 8 8 0 6 0 3 4 2 1 8 3 6 1 6 0 8 0 9 7 1 7 2 8 7 9 8 9 9 5 1 1 3\n",
      " 9 1 5 8 7 0 3 2 7 2 4 8 9]\n",
      "labels:\n",
      "[1 6 7 7 7 8 8 0 6 0 3 4 2 1 8 3 6 1 6 0 8 0 9 7 1 7 2 8 7 9 8 9 9 5 1 1 3\n",
      " 9 1 5 8 7 0 3 2 7 2 4 8 9]\n"
     ]
    },
    {
     "data": {
      "image/png": "[encoded data removed]",
      "text/plain": [
       "<Figure size 432x288 with 1 Axes>"
      ]
     },
     "metadata": {
      "needs_background": "light"
     },
     "output_type": "display_data"
    }
   ],
   "source": [
    "import torchvision\n",
    "import matplotlib.pyplot as plt\n",
    "# 在训练集上\n",
    "for i,data in enumerate(train_loader):\n",
    "    img, label =data\n",
    "    tempimg = torchvision.utils.make_grid(img)\n",
    "    plt.imshow(np.transpose(tempimg.numpy(),(1, 2, 0)))\n",
    "    #print(img.size())\n",
    "    output = cnn(img)\n",
    "    pre = torch.max(output, 1)[1].data.squeeze()\n",
    "    print('cnn answers:')\n",
    "    print(pre.numpy())\n",
    "    print('labels:')\n",
    "    print(label.numpy())\n",
    "    break\n"
   ]
  },
  {
   "cell_type": "code",
   "execution_count": 11,
   "metadata": {},
   "outputs": [
    {
     "name": "stderr",
     "output_type": "stream",
     "text": [
      "Clipping input data to the valid range for imshow with RGB data ([0..1] for floats or [0..255] for integers).\n"
     ]
    },
    {
     "name": "stdout",
     "output_type": "stream",
     "text": [
      "cnn answers:\n",
      "[2 2 5 0 4 7 2 9 5 5 8 6 7 6 8 1 3 3 4 4 6 8 3 2 9 1 9 1 9 1 9 1 3 3 9 0 7\n",
      " 9 2 1 1 2 4 9 0 9 2 5 0 5]\n",
      "labels:\n",
      "[2 2 5 0 4 7 2 9 5 5 8 6 7 6 8 1 3 9 4 4 6 8 3 2 9 1 9 1 9 1 9 1 3 3 9 0 7\n",
      " 9 2 1 1 2 4 9 0 9 2 5 0 5]\n"
     ]
    },
    {
     "data": {
      "image/png": "[encoded data removed]",
      "text/plain": [
       "<Figure size 432x288 with 1 Axes>"
      ]
     },
     "metadata": {
      "needs_background": "light"
     },
     "output_type": "display_data"
    }
   ],
   "source": [
    "# 在测试集上\n",
    "for i,data in enumerate(test_loader):\n",
    "    img, label =data\n",
    "    tempimg = torchvision.utils.make_grid(img)\n",
    "    plt.imshow(np.transpose(tempimg.numpy(),(1, 2, 0)))\n",
    "    #print(img.size())\n",
    "    output = cnn(img)\n",
    "    pre = torch.max(output, 1)[1].data.squeeze()\n",
    "    print('cnn answers:')\n",
    "    print(pre.numpy())\n",
    "    print('labels:')\n",
    "    print(label.numpy())\n",
    "    break"
   ]
  },
  {
   "cell_type": "code",
   "execution_count": 14,
   "metadata": {},
   "outputs": [],
   "source": [
    "x = torch.rand(10)"
   ]
  },
  {
   "cell_type": "code",
   "execution_count": 15,
   "metadata": {},
   "outputs": [
    {
     "ename": "IndentationError",
     "evalue": "unexpected indent (<ipython-input-15-f2fe26a90d4c>, line 2)",
     "output_type": "error",
     "traceback": [
      "\u001b[0;36m  File \u001b[0;32m\"<ipython-input-15-f2fe26a90d4c>\"\u001b[0;36m, line \u001b[0;32m2\u001b[0m\n\u001b[0;31m    totalRightNumber = 0\u001b[0m\n\u001b[0m    ^\u001b[0m\n\u001b[0;31mIndentationError\u001b[0m\u001b[0;31m:\u001b[0m unexpected indent\n"
     ]
    }
   ],
   "source": [
    "   # 计算测试集准确率\n",
    "    totalRightNumber = 0\n",
    "    batchSize = 3\n",
    "    labelNumber = 15\n",
    "    for i,data in enumerate(testLoader):\n",
    "        b_x,b_y = data\n",
    "        b_x = b_x.to(device)\n",
    "        b_y = b_y.to(device)\n",
    "        output = F.sigmoid(cnn(b_x))\n",
    "        # 计算正确标签数\n",
    "        totalRightNumber = (abs(output-b_y)<0.5).sum()+totalRightNumber\n",
    "        #print('aaa',(abs(output-b_y)<0.5).sum())\n",
    "        ##print('aaa',output,b_y)\n",
    "        ##### 这里需要用最大值的索引作为分类号\n",
    "        #output2 = torch.max(output,1)[1]\n",
    "        #totalRightNumber = totalRightNumber + (output2 == b_y).sum()\n",
    "        #print('output',output)\n",
    "        #print('b_y',b_y)\n",
    "    #else:\n",
    "        #print(loss = loss_func(F.sigmoid(output), b_y))\n",
    "    # 输出正确率\n",
    "    #print('rate on test set:',totalRightNumber/(len(testset)*batchSize*labelNumber))\n",
    "    print('maintotal',totalRightNumber)\n",
    "    print('rate on test set:',float(totalRightNumber[0])/(len(testLoader)*batchSize*labelNumber))\n",
    "    #if epoch % 20 == 0:\n",
    "    #    test_output = cnn(test_x)\n",
    "    #    def functemp(x):\n",
    "    #        if(x[0]> 0.5):\n",
    "    #            return 0\n",
    "    #        else:\n",
    "    #            return 1\n",
    "    #    test_output=list(map(functemp,list(test_output)))\n",
    "    #    print(torch.Tensor(test_output))\n",
    "    #    print(test_y)\n",
    "        "
   ]
  },
  {
   "cell_type": "code",
   "execution_count": null,
   "metadata": {},
   "outputs": [],
   "source": [
    "x.round()"
   ]
  },
  {
   "cell_type": "code",
   "execution_count": null,
   "metadata": {},
   "outputs": [],
   "source": [
    "mt = ElementTree.ElementTree()\n",
    "mt.getroot()=t"
   ]
  },
  {
   "cell_type": "code",
   "execution_count": null,
   "metadata": {
    "scrolled": true
   },
   "outputs": [],
   "source": [
    "for i in tree.getroot():\n",
    "    print(i)"
   ]
  },
  {
   "cell_type": "code",
   "execution_count": null,
   "metadata": {},
   "outputs": [],
   "source": [
    "rootNode = ElementTree.Element('root')\n",
    "meanNode = ElementTree.SubElement(rootNode,'mean')\n",
    "meanNode.attrib = {'value':124}\n",
    "stdNode = ElementTree.SubElement(rootNode,'std')\n",
    "stdNode.attrib = {'value':423412}\n",
    "tree = ElementTree.ElementTree(rootNode)\n"
   ]
  },
  {
   "cell_type": "code",
   "execution_count": 39,
   "metadata": {},
   "outputs": [],
   "source": [
    "# 以下几个方框里是神经网络可视化的尝试\n",
    "L = []\n",
    "for m in cnn.modules():\n",
    "    if isinstance(m, nn.Conv2d):\n",
    "       # print(m.weights.data)\n",
    "        L.append(m.weight.data)"
   ]
  },
  {
   "cell_type": "code",
   "execution_count": 37,
   "metadata": {},
   "outputs": [
    {
     "name": "stdout",
     "output_type": "stream",
     "text": [
      "torch.Size([4, 1, 3, 3])\n",
      "torch.Size([8, 4, 3, 3])\n"
     ]
    }
   ],
   "source": [
    "for i in L:\n",
    "    print(i.size())"
   ]
  },
  {
   "cell_type": "code",
   "execution_count": 49,
   "metadata": {},
   "outputs": [],
   "source": [
    "ToPIL = torchvision.transforms.ToPILImage()\n",
    "#L1 = map(lambda x:ToPIL(x.reshape((1,2))),L)\n",
    "#for i in L[0]:\n",
    "#    print(ToPIL(i).show())\n",
    "ToPIL(torchvision.utils.make_grid(L[0])).show()\n",
    "ToPIL(torchvision.utils.make_grid(L[1][:,1,:,:])).show()"
   ]
  },
  {
   "cell_type": "code",
   "execution_count": null,
   "metadata": {},
   "outputs": [],
   "source": [
    "# 图像和标签查看工具\n",
    "ToPIL = torchvision.transforms.ToPILImage()\n",
    "x=0\n",
    "y =0\n",
    "for i,data in enumerate(test_loader):\n",
    "    img,label = data\n",
    "    x = ToPIL(img[0])\n",
    "    y=label\n",
    "    break\n",
    "print(y)\n",
    "x"
   ]
  },
  {
   "cell_type": "code",
   "execution_count": null,
   "metadata": {},
   "outputs": [],
   "source": [
    "# 不要有事没事加sigmoid之类的函数，有可能导致输出变得相同"
   ]
  }
 ],
 "metadata": {
  "kernelspec": {
   "display_name": "Python 3",
   "language": "python",
   "name": "python3"
  },
  "language_info": {
   "codemirror_mode": {
    "name": "ipython",
    "version": 3
   },
   "file_extension": ".py",
   "mimetype": "text/x-python",
   "name": "python",
   "nbconvert_exporter": "python",
   "pygments_lexer": "ipython3",
   "version": "3.7.1"
  }
 },
 "nbformat": 4,
 "nbformat_minor": 2
}
